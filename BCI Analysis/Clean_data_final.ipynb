{
 "cells": [
  {
   "cell_type": "code",
   "execution_count": 1,
   "metadata": {},
   "outputs": [],
   "source": [
    "import csv\n",
    "import pandas as pd\n",
    "import numpy as np"
   ]
  },
  {
   "cell_type": "code",
   "execution_count": 2,
   "metadata": {},
   "outputs": [],
   "source": [
    "Path = \"C:/Users/nkala/Desktop/Final_Data/\"\n",
    "filename = \"Pinzhu_Calm_recording_1.csv\"\n",
    "\n",
    "skiprows = 0\n",
    "raw_data = []\n",
    "with open(Path + filename, 'r') as csvfile1, open(Path + \"Pinzhu_Calm_filtered_data_1.csv\", 'w+') as csvfile2:\n",
    "    for row in csvfile1:\n",
    "        cols = row.split(',')\n",
    "        if(cols[1].strip() == \"Person0/eeg\"):\n",
    "            csvfile2.write(row)"
   ]
  },
  {
   "cell_type": "code",
   "execution_count": 3,
   "metadata": {},
   "outputs": [],
   "source": [
    "data = pd.read_csv(Path + 'Pinzhu_Calm_filtered_data_1.csv', names = [\"Time\", \"Signal_Type\", \"Channel1\", \"Channel2\", \"Channel3\", \"Channel4\", \"Channel5\", \"Channel6\"])"
   ]
  },
  {
   "cell_type": "code",
   "execution_count": 4,
   "metadata": {},
   "outputs": [
    {
     "data": {
      "text/html": [
       "<div>\n",
       "<style scoped>\n",
       "    .dataframe tbody tr th:only-of-type {\n",
       "        vertical-align: middle;\n",
       "    }\n",
       "\n",
       "    .dataframe tbody tr th {\n",
       "        vertical-align: top;\n",
       "    }\n",
       "\n",
       "    .dataframe thead th {\n",
       "        text-align: right;\n",
       "    }\n",
       "</style>\n",
       "<table border=\"1\" class=\"dataframe\">\n",
       "  <thead>\n",
       "    <tr style=\"text-align: right;\">\n",
       "      <th></th>\n",
       "      <th>Time</th>\n",
       "      <th>Signal_Type</th>\n",
       "      <th>Channel1</th>\n",
       "      <th>Channel2</th>\n",
       "      <th>Channel3</th>\n",
       "      <th>Channel4</th>\n",
       "      <th>Channel5</th>\n",
       "      <th>Channel6</th>\n",
       "    </tr>\n",
       "  </thead>\n",
       "  <tbody>\n",
       "    <tr>\n",
       "      <th>0</th>\n",
       "      <td>1.527461e+09</td>\n",
       "      <td>Person0/eeg</td>\n",
       "      <td>892.490842</td>\n",
       "      <td>826.813187</td>\n",
       "      <td>863.882784</td>\n",
       "      <td>547.179487</td>\n",
       "      <td>nan</td>\n",
       "      <td>nan</td>\n",
       "    </tr>\n",
       "    <tr>\n",
       "      <th>1</th>\n",
       "      <td>1.527461e+09</td>\n",
       "      <td>Person0/eeg</td>\n",
       "      <td>842.124542</td>\n",
       "      <td>831.245421</td>\n",
       "      <td>868.717949</td>\n",
       "      <td>997.252747</td>\n",
       "      <td>nan</td>\n",
       "      <td>nan</td>\n",
       "    </tr>\n",
       "    <tr>\n",
       "      <th>2</th>\n",
       "      <td>1.527461e+09</td>\n",
       "      <td>Person0/eeg</td>\n",
       "      <td>811.904762</td>\n",
       "      <td>850.183150</td>\n",
       "      <td>866.300366</td>\n",
       "      <td>1157.216117</td>\n",
       "      <td>nan</td>\n",
       "      <td>nan</td>\n",
       "    </tr>\n",
       "    <tr>\n",
       "      <th>3</th>\n",
       "      <td>1.527461e+09</td>\n",
       "      <td>Person0/eeg</td>\n",
       "      <td>837.289377</td>\n",
       "      <td>848.571429</td>\n",
       "      <td>850.989011</td>\n",
       "      <td>810.293040</td>\n",
       "      <td>nan</td>\n",
       "      <td>nan</td>\n",
       "    </tr>\n",
       "    <tr>\n",
       "      <th>4</th>\n",
       "      <td>1.527461e+09</td>\n",
       "      <td>Person0/eeg</td>\n",
       "      <td>866.300366</td>\n",
       "      <td>828.827839</td>\n",
       "      <td>843.736264</td>\n",
       "      <td>467.399267</td>\n",
       "      <td>nan</td>\n",
       "      <td>nan</td>\n",
       "    </tr>\n",
       "  </tbody>\n",
       "</table>\n",
       "</div>"
      ],
      "text/plain": [
       "           Time   Signal_Type    Channel1    Channel2    Channel3  \\\n",
       "0  1.527461e+09   Person0/eeg  892.490842  826.813187  863.882784   \n",
       "1  1.527461e+09   Person0/eeg  842.124542  831.245421  868.717949   \n",
       "2  1.527461e+09   Person0/eeg  811.904762  850.183150  866.300366   \n",
       "3  1.527461e+09   Person0/eeg  837.289377  848.571429  850.989011   \n",
       "4  1.527461e+09   Person0/eeg  866.300366  828.827839  843.736264   \n",
       "\n",
       "      Channel4 Channel5 Channel6  \n",
       "0   547.179487      nan      nan  \n",
       "1   997.252747      nan      nan  \n",
       "2  1157.216117      nan      nan  \n",
       "3   810.293040      nan      nan  \n",
       "4   467.399267      nan      nan  "
      ]
     },
     "execution_count": 4,
     "metadata": {},
     "output_type": "execute_result"
    }
   ],
   "source": [
    "data.head()"
   ]
  },
  {
   "cell_type": "code",
   "execution_count": 5,
   "metadata": {},
   "outputs": [],
   "source": [
    "del data['Channel5']\n",
    "del data['Channel6']"
   ]
  },
  {
   "cell_type": "code",
   "execution_count": 6,
   "metadata": {},
   "outputs": [],
   "source": [
    "data.to_csv(Path + 'Pinzhu_Calm_filtered_data2_1.csv', header = None)"
   ]
  },
  {
   "cell_type": "code",
   "execution_count": 7,
   "metadata": {},
   "outputs": [
    {
     "data": {
      "text/plain": [
       "'with open(\"C:/Users/nkala/Desktop/Final_Data/filtered_data2.csv\", \"w+\") as f1:\\n        for line in data:\\n            f1.write(line)'"
      ]
     },
     "execution_count": 7,
     "metadata": {},
     "output_type": "execute_result"
    }
   ],
   "source": [
    "\"\"\"with open(\"C:/Users/nkala/Desktop/Final_Data/filtered_data2.csv\", \"w+\") as f1:\n",
    "        for line in data:\n",
    "            f1.write(line)\"\"\""
   ]
  },
  {
   "cell_type": "code",
   "execution_count": null,
   "metadata": {},
   "outputs": [],
   "source": []
  }
 ],
 "metadata": {
  "kernelspec": {
   "display_name": "Python 3",
   "language": "python",
   "name": "python3"
  },
  "language_info": {
   "codemirror_mode": {
    "name": "ipython",
    "version": 3
   },
   "file_extension": ".py",
   "mimetype": "text/x-python",
   "name": "python",
   "nbconvert_exporter": "python",
   "pygments_lexer": "ipython3",
   "version": "3.6.5"
  }
 },
 "nbformat": 4,
 "nbformat_minor": 2
}
