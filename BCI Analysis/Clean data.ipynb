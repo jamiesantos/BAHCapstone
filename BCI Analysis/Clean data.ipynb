{
 "cells": [
  {
   "cell_type": "code",
   "execution_count": 1,
   "metadata": {},
   "outputs": [],
   "source": [
    "import csv\n",
    "import pandas as pd\n",
    "import numpy as np\n",
    "#data = pd.read_csv('data\\Jamie_Cup1.csv', error_bad_lines=False)"
   ]
  },
  {
   "cell_type": "code",
   "execution_count": 2,
   "metadata": {},
   "outputs": [],
   "source": [
    "DESIRED_ROWS = [0,1,2]\n",
    "with open(\"data\\Jamie_Cup1.csv\") as input_file:\n",
    "    reader = csv.reader(input_file)\n",
    "    desired_rows = [row for row_number, row in enumerate(reader)\n",
    "                    if row_number in DESIRED_ROWS]"
   ]
  },
  {
   "cell_type": "code",
   "execution_count": 3,
   "metadata": {},
   "outputs": [
    {
     "name": "stdout",
     "output_type": "stream",
     "text": [
      "['1525930597.011867', ' /muse/config', ' \\'{\"drlref_conversion_factor\": 0', ' \"acc_sample_frequency_hz\": 52', ' \"battery_percent_remaining\": 7500', ' \"eeg_downsample\": 4294967295', ' \"notch_frequency_hz\": 0', ' \"eeg_locations\": []', ' \"eeg_units\": 1', ' \"eeg_output_frequency_hz\": 256', ' \"eeg_conversion_factor\": 0', ' \"eeg_channel_layout\": \"TP9 FP1 FP2 TP10\"', ' \"acc_data_enabled\": true', ' \"eeg_sample_frequency_hz\": 4294967295', ' \"mac_addr\": \"0055DAB32C0A\"', ' \"preset\": \"21\"', ' \"drlref_sample_frequency_hz\": 16', ' \"serial_number\": \"2031-HZ9A-2C0A\"', ' \"filters_enabled\": false', ' \"battery_millivolts\": 0', ' \"acc_units\": 1', ' \"battery_data_enabled\": true', ' \"afe_gain\": 2000.0', ' \"compression_enabled\": false', ' \"eeg_channel_count\": 4', ' \"error_data_enabled\": false', ' \"acc_conversion_factor\": 0', ' \"eeg_samples_bitwidth\": 16', ' \"drlref_data_enabled\": true}\\'']\n"
     ]
    }
   ],
   "source": [
    "print (desired_rows[2])"
   ]
  },
  {
   "cell_type": "code",
   "execution_count": 6,
   "metadata": {},
   "outputs": [],
   "source": [
    "with open(\"data/Jamie_Cup1.csv\") as f:\n",
    "    with open(\"data/Jamie_Cup1_updated.csv\", \"w\") as f1:\n",
    "        for i in range(3):\n",
    "            f.readline()\n",
    "        for line in f:\n",
    "            f1.write(line)"
   ]
  },
  {
   "cell_type": "code",
   "execution_count": 7,
   "metadata": {},
   "outputs": [],
   "source": [
    "#data = pd.read_csv('data\\Jamie_Cup1_updated.csv')#, error_bad_lines=False)"
   ]
  },
  {
   "cell_type": "code",
   "execution_count": 8,
   "metadata": {},
   "outputs": [],
   "source": [
    "skiprows = 0\n",
    "raw_data = []\n",
    "with open(\"data/Jamie_Cup1_updated.csv\", 'r') as csvfile1, open(\"data/filtered_data.csv\", 'r+') as csvfile2:\n",
    "    for row in csvfile1:\n",
    "        cols = row.split(',')\n",
    "        if(cols[1].strip() == \"/muse/eeg\"):\n",
    "            csvfile2.write(row)\n",
    "            \n",
    "            #raw_data.append(cols[2:6])\n",
    "\n",
    "#dt = np.dtype('Float64')\n",
    "#print (raw_data)\n",
    "#print (raw_data[1])\n",
    "#raw_data = np.array(raw_data, dtype=dt)"
   ]
  },
  {
   "cell_type": "code",
   "execution_count": null,
   "metadata": {},
   "outputs": [],
   "source": []
  },
  {
   "cell_type": "code",
   "execution_count": 16,
   "metadata": {},
   "outputs": [],
   "source": [
    "with open(\"data/filtered_data.csv\",\"r\") as source:\n",
    "    rdr= csv.reader(source)\n",
    "    with open(\"data/filtered_data1.csv\",\"w\") as result:\n",
    "        wtr= csv.writer(result)\n",
    "        for r in rdr:\n",
    "            if len(r)>3:           # r = r.split(',')\n",
    "                wtr.writerow((r[0], r[1], r[2], r[3], r[4], r[5]))"
   ]
  },
  {
   "cell_type": "code",
   "execution_count": 17,
   "metadata": {},
   "outputs": [],
   "source": [
    "import pandas as pd\n",
    "data = pd.read_csv('data/filtered_data1.csv')"
   ]
  },
  {
   "cell_type": "code",
   "execution_count": 22,
   "metadata": {},
   "outputs": [
    {
     "name": "stdout",
     "output_type": "stream",
     "text": [
      "1525930597.011947, /muse/eeg, 837.692321777, 875.567749023, 852.197814941, 864.285705566\n",
      "\n",
      "['1525930597.011947', ' /muse/eeg', ' 837.692321777', ' 875.567749023', ' 852.197814941', ' 864.285705566\\n']\n",
      "1\n",
      "\n",
      "\n",
      "['\\n']\n",
      "2\n"
     ]
    },
    {
     "ename": "IndexError",
     "evalue": "list index out of range",
     "output_type": "error",
     "traceback": [
      "\u001b[1;31m---------------------------------------------------------------------------\u001b[0m",
      "\u001b[1;31mIndexError\u001b[0m                                Traceback (most recent call last)",
      "\u001b[1;32m<ipython-input-22-636b31605b63>\u001b[0m in \u001b[0;36m<module>\u001b[1;34m()\u001b[0m\n\u001b[0;32m      9\u001b[0m         \u001b[0mprint\u001b[0m \u001b[1;33m(\u001b[0m\u001b[0mcols\u001b[0m\u001b[1;33m)\u001b[0m\u001b[1;33m\u001b[0m\u001b[0m\n\u001b[0;32m     10\u001b[0m         \u001b[0mprint\u001b[0m \u001b[1;33m(\u001b[0m\u001b[0mcount\u001b[0m\u001b[1;33m)\u001b[0m\u001b[1;33m\u001b[0m\u001b[0m\n\u001b[1;32m---> 11\u001b[1;33m         \u001b[1;32mif\u001b[0m\u001b[1;33m(\u001b[0m\u001b[0mcols\u001b[0m\u001b[1;33m[\u001b[0m\u001b[1;36m1\u001b[0m\u001b[1;33m]\u001b[0m\u001b[1;33m.\u001b[0m\u001b[0mstrip\u001b[0m\u001b[1;33m(\u001b[0m\u001b[1;33m)\u001b[0m \u001b[1;33m==\u001b[0m \u001b[1;34m\"/muse/eeg\"\u001b[0m\u001b[1;33m)\u001b[0m\u001b[1;33m:\u001b[0m\u001b[1;33m\u001b[0m\u001b[0m\n\u001b[0m\u001b[0;32m     12\u001b[0m             \u001b[0mraw_data\u001b[0m\u001b[1;33m.\u001b[0m\u001b[0mappend\u001b[0m\u001b[1;33m(\u001b[0m\u001b[0mcols\u001b[0m\u001b[1;33m[\u001b[0m\u001b[1;36m2\u001b[0m\u001b[1;33m:\u001b[0m\u001b[1;36m6\u001b[0m\u001b[1;33m]\u001b[0m\u001b[1;33m)\u001b[0m\u001b[1;33m\u001b[0m\u001b[0m\n\u001b[0;32m     13\u001b[0m \u001b[1;33m\u001b[0m\u001b[0m\n",
      "\u001b[1;31mIndexError\u001b[0m: list index out of range"
     ]
    }
   ],
   "source": [
    "skiprows = 0\n",
    "raw_data = []\n",
    "count = 0\n",
    "with open(\"data/filtered_data1.csv\", 'r') as csvfile:\n",
    "    for row in csvfile:\n",
    "        print (row)\n",
    "        count += 1\n",
    "        cols = row.split(',')\n",
    "        print (cols)\n",
    "        print (count)\n",
    "        if(cols[1].strip() == \"/muse/eeg\"):\n",
    "            raw_data.append(cols[2:6])\n",
    "\n",
    "dt = np.dtype('Float64')\n",
    "#print (raw_data)\n",
    "raw_data = np.array(raw_data, dtype=dt)"
   ]
  },
  {
   "cell_type": "code",
   "execution_count": null,
   "metadata": {},
   "outputs": [],
   "source": []
  }
 ],
 "metadata": {
  "kernelspec": {
   "display_name": "Python 3",
   "language": "python",
   "name": "python3"
  },
  "language_info": {
   "codemirror_mode": {
    "name": "ipython",
    "version": 3
   },
   "file_extension": ".py",
   "mimetype": "text/x-python",
   "name": "python",
   "nbconvert_exporter": "python",
   "pygments_lexer": "ipython3",
   "version": "3.6.5"
  }
 },
 "nbformat": 4,
 "nbformat_minor": 2
}
